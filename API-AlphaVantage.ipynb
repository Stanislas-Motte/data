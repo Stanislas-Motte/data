{
 "cells": [
  {
   "cell_type": "markdown",
   "metadata": {},
   "source": [
    "# AlphaVantage API\n"
   ]
  },
  {
   "cell_type": "code",
   "execution_count": null,
   "metadata": {},
   "outputs": [],
   "source": [
    "import requests\n",
    "import json\n",
    "\n",
    "# Set up API endpoint and API key\n",
    "api_key = 'VNICC8F5GWJAZAAN'\n",
    "\n",
    "endpoint = 'https://www.alphavantage.co/query'\n",
    "\n",
    "# Set up parameters for API call\n",
    "#Find symbol\n",
    "params = {\n",
    "    'function': 'TIME_SERIES_DAILY_ADJUSTED',\n",
    "    'symbol': 'IBM',\n",
    "    'outputsize': 'full',\n",
    "    'apikey': api_key\n",
    "}\n",
    "\n",
    "response = requests.get(endpoint, params=params)\n",
    "data_str = response.text\n",
    "\n",
    "data_dict = json.loads(data_str)\n",
    "\n",
    "df = pd.DataFrame(data_dict['Time Series (Daily)']).transpose()"
   ]
  }
 ],
 "metadata": {
  "language_info": {
   "name": "python"
  },
  "orig_nbformat": 4
 },
 "nbformat": 4,
 "nbformat_minor": 2
}
